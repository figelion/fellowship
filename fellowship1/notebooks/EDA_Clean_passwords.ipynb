{
  "nbformat": 4,
  "nbformat_minor": 0,
  "metadata": {
    "colab": {
      "name": " EDA Clean passwords.ipynb",
      "provenance": [],
      "collapsed_sections": []
    },
    "kernelspec": {
      "name": "python3",
      "display_name": "Python 3"
    }
  },
  "cells": [
    {
      "cell_type": "code",
      "metadata": {
        "id": "Jbn0g7k7uSDi"
      },
      "source": [
        "import sys\n",
        "import os\n",
        "import numpy as np\n",
        "import pandas as pd"
      ],
      "execution_count": null,
      "outputs": []
    },
    {
      "cell_type": "markdown",
      "metadata": {
        "id": "5W43aVNsxA6r"
      },
      "source": [
        "## Load Data"
      ]
    },
    {
      "cell_type": "code",
      "metadata": {
        "id": "wOK7T5Whu2Tq",
        "colab": {
          "base_uri": "https://localhost:8080/"
        },
        "outputId": "3081f7fb-42e6-4498-eb64-cb7af4576b59"
      },
      "source": [
        "# If it is not downloading we need to go to google drive which you will find on trello and copy part of the link with the id for the file\n",
        "# After download file should show up on the left side in folder/files\n",
        "!gdown --id 1uPnQEVYnMxVtT9YpDqL_6nRAUKBLYJAM"
      ],
      "execution_count": null,
      "outputs": [
        {
          "output_type": "stream",
          "text": [
            "Downloading...\n",
            "From: https://drive.google.com/uc?id=1uPnQEVYnMxVtT9YpDqL_6nRAUKBLYJAM\n",
            "To: /content/random-10m.txt\n",
            "95.3MB [00:00, 123MB/s] \n"
          ],
          "name": "stdout"
        }
      ]
    },
    {
      "cell_type": "code",
      "metadata": {
        "id": "q_3_BFoQmWNa"
      },
      "source": [
        "EMPTY_LETTER = \"X\"\n",
        "LETTERS_KEYBOARD = [\"`\",\"~\", \"1\",\"!\", \"2\",\"@\", \"3\",\"#\", \"4\",\"$\", \"5\",\"%\", \"6\",\"^\", \"7\",\"&\", \"8\",\"*\", \"9\",\"(\", \"0\",\")\", \"-\",\"_\", \"=\",\"+\",\n",
        "                    \"q\", \"w\", \"e\", \"r\", \"t\", \"y\", \"u\", \"i\", \"o\", \"p\", \"[\",\"{\", \"]\",\"}\",\n",
        "                    \"a\", \"s\", \"d\", \"f\", \"g\", \"h\", \"j\", \"k\", \"l\", \";\",\":\", \"'\",\"\\\"\", \"\\\\\",\"|\",\n",
        "                    \"z\", \"x\", \"c\", \"v\", \"b\", \"n\", \"m\", \",\",\"<\", \".\",\">\", \"/\",\"?\"]\n",
        "\n",
        "KEYBOARD_LAYOUT_QWERTY = [[\"`~\", \"1!\", \"2@\", \"3#\", \"4$\", \"5%\", \"6^\", \"7&\", \"8*\", \"9(\", \"0)\", \"-_\", \"=+\"],\n",
        "                          [EMPTY_LETTER, \"q\", \"w\", \"e\", \"r\", \"t\", \"y\", \"u\", \"i\", \"o\", \"p\", \"[{\", \"]}\"],\n",
        "                          [EMPTY_LETTER, \"a\", \"s\", \"d\", \"f\", \"g\", \"h\", \"j\", \"k\", \"l\", \";:\", \"'\\\"\", \"\\\\|\"],\n",
        "                          [EMPTY_LETTER, \"z\", \"x\", \"c\", \"v\", \"b\", \"n\", \"m\", \",<\", \".>\", \"/?\", EMPTY_LETTER, EMPTY_LETTER],\n",
        "                          [EMPTY_LETTER,EMPTY_LETTER, \" \", \" \", \" \", \" \", \" \", \" \", \" \", EMPTY_LETTER, EMPTY_LETTER, EMPTY_LETTER, EMPTY_LETTER]]\n",
        "\n",
        "KEYBOARD_LAYOUT_QWERTY = np.asarray(KEYBOARD_LAYOUT_QWERTY)"
      ],
      "execution_count": null,
      "outputs": []
    },
    {
      "cell_type": "code",
      "metadata": {
        "id": "iTezJyq6u5eF"
      },
      "source": [
        "path = \"random-10m.txt\"\n",
        "pass_list = []\n",
        "\n",
        "with open(path,'r', encoding='utf-8') as file:\n",
        "    pass_list = [line.replace(\"\\n\",\"\") for line in file]\n",
        "\n",
        "df_passwords = pd.DataFrame(pass_list)\n",
        "df_passwords = df_passwords.rename(columns={0: \"passwords\"})"
      ],
      "execution_count": null,
      "outputs": []
    },
    {
      "cell_type": "code",
      "metadata": {
        "id": "5q-YMRFk4O8_",
        "colab": {
          "base_uri": "https://localhost:8080/",
          "height": 204
        },
        "outputId": "a33b3ee1-6f76-42b7-805e-f043382dbcdd"
      },
      "source": [
        "df_passwords.head()"
      ],
      "execution_count": null,
      "outputs": [
        {
          "output_type": "execute_result",
          "data": {
            "text/html": [
              "<div>\n",
              "<style scoped>\n",
              "    .dataframe tbody tr th:only-of-type {\n",
              "        vertical-align: middle;\n",
              "    }\n",
              "\n",
              "    .dataframe tbody tr th {\n",
              "        vertical-align: top;\n",
              "    }\n",
              "\n",
              "    .dataframe thead th {\n",
              "        text-align: right;\n",
              "    }\n",
              "</style>\n",
              "<table border=\"1\" class=\"dataframe\">\n",
              "  <thead>\n",
              "    <tr style=\"text-align: right;\">\n",
              "      <th></th>\n",
              "      <th>passwords</th>\n",
              "    </tr>\n",
              "  </thead>\n",
              "  <tbody>\n",
              "    <tr>\n",
              "      <th>0</th>\n",
              "      <td>112233445566</td>\n",
              "    </tr>\n",
              "    <tr>\n",
              "      <th>1</th>\n",
              "      <td>fox777</td>\n",
              "    </tr>\n",
              "    <tr>\n",
              "      <th>2</th>\n",
              "      <td>pakistan11</td>\n",
              "    </tr>\n",
              "    <tr>\n",
              "      <th>3</th>\n",
              "      <td>keith</td>\n",
              "    </tr>\n",
              "    <tr>\n",
              "      <th>4</th>\n",
              "      <td>bN8dK0</td>\n",
              "    </tr>\n",
              "  </tbody>\n",
              "</table>\n",
              "</div>"
            ],
            "text/plain": [
              "      passwords\n",
              "0  112233445566\n",
              "1        fox777\n",
              "2    pakistan11\n",
              "3         keith\n",
              "4        bN8dK0"
            ]
          },
          "metadata": {
            "tags": []
          },
          "execution_count": 5
        }
      ]
    },
    {
      "cell_type": "code",
      "metadata": {
        "id": "bH2RDdD_nHFm",
        "colab": {
          "base_uri": "https://localhost:8080/"
        },
        "outputId": "f56813dc-8bf4-4dfd-c998-4361a6cf70f0"
      },
      "source": [
        "\"1\" in LETTERS_KEYBOARD"
      ],
      "execution_count": null,
      "outputs": [
        {
          "output_type": "execute_result",
          "data": {
            "text/plain": [
              "True"
            ]
          },
          "metadata": {
            "tags": []
          },
          "execution_count": 6
        }
      ]
    },
    {
      "cell_type": "code",
      "metadata": {
        "id": "QxsDvysnvLIq"
      },
      "source": [
        "import unicodedata as ud\n",
        "import regex as re\n",
        "\n",
        "\n",
        "\n",
        "def is_latin(uchr, latin_letters):\n",
        "    \"\"\"\n",
        "    Check if letter is in latin alphabet\n",
        "    \"\"\"\n",
        "    try: return latin_letters[uchr]\n",
        "    except KeyError:\n",
        "         return latin_letters.setdefault(uchr, 'LATIN' in ud.name(uchr))\n",
        "\n",
        "def only_roman_chars(unistr):\n",
        "    \"\"\"\n",
        "    Check if string is written in lating alphabet\n",
        "    \"\"\"\n",
        "    latin_letters = {}\n",
        "    unistr = unistr.lower()\n",
        "    is_roman = all(is_latin(uchr, latin_letters) for uchr in unistr\n",
        "                   if uchr.isalpha())\n",
        "    return is_roman\n",
        "\n",
        "def is_on_keyboard(unistr):\n",
        "    unistr = unistr.lower()\n",
        "    is_keyboard_char = all(uchr in LETTERS_KEYBOARD for uchr in unistr)\n",
        "                   \n",
        "    return is_keyboard_char\n",
        "\n",
        "def is_password_email(unistr):\n",
        "  password = unistr\n",
        "  regex = '^[a-z0-9]+[\\._]?[a-z0-9]+[@]\\w+[.]\\w{2,3}$'\n",
        "  if re.search(regex, password):  \n",
        "        return True\n",
        "  else:  \n",
        "        return False\n",
        "\n",
        "def is_password_too_long(unistr, length=128):\n",
        "  if len(unistr) > 128:\n",
        "    return True\n",
        "  else:\n",
        "    return False\n",
        "\n",
        "\n",
        "def is_password_correct(unistr):\n",
        "  password = unistr.values[0]\n",
        "  is_keyboard = is_on_keyboard(password)\n",
        "  is_email = is_password_email(password)\n",
        "  is_long = is_password_too_long(password)\n",
        "\n",
        "  if is_keyboard and not is_email and not is_long:\n",
        "    return True\n",
        "  else:\n",
        "    return False\n"
      ],
      "execution_count": null,
      "outputs": []
    },
    {
      "cell_type": "code",
      "metadata": {
        "id": "FAB-WdQgwc0b"
      },
      "source": [
        " df_passwords_bool = df_passwords.apply(is_password_correct, axis=1)"
      ],
      "execution_count": null,
      "outputs": []
    },
    {
      "cell_type": "code",
      "metadata": {
        "id": "SyIy4FP9u-_q",
        "colab": {
          "base_uri": "https://localhost:8080/"
        },
        "outputId": "23b1db05-615c-4deb-c222-1c073adb4093"
      },
      "source": [
        "df_passwords_bool.head()"
      ],
      "execution_count": null,
      "outputs": [
        {
          "output_type": "execute_result",
          "data": {
            "text/plain": [
              "0    True\n",
              "1    True\n",
              "2    True\n",
              "3    True\n",
              "4    True\n",
              "dtype: bool"
            ]
          },
          "metadata": {
            "tags": []
          },
          "execution_count": 9
        }
      ]
    },
    {
      "cell_type": "code",
      "metadata": {
        "id": "iKfEG4mkxwLC"
      },
      "source": [
        "df_passwords = df_passwords[df_passwords_bool == True].reset_index(drop=True)"
      ],
      "execution_count": null,
      "outputs": []
    },
    {
      "cell_type": "code",
      "metadata": {
        "id": "nRehi8_2zM8y",
        "colab": {
          "base_uri": "https://localhost:8080/"
        },
        "outputId": "0e40e6dc-843a-4df6-e338-c85aa21fa1f4"
      },
      "source": [
        "df_passwords.info()"
      ],
      "execution_count": null,
      "outputs": [
        {
          "output_type": "stream",
          "text": [
            "<class 'pandas.core.frame.DataFrame'>\n",
            "RangeIndex: 9881981 entries, 0 to 9881980\n",
            "Data columns (total 1 columns):\n",
            " #   Column     Dtype \n",
            "---  ------     ----- \n",
            " 0   passwords  object\n",
            "dtypes: object(1)\n",
            "memory usage: 75.4+ MB\n"
          ],
          "name": "stdout"
        }
      ]
    },
    {
      "cell_type": "code",
      "metadata": {
        "id": "qCU_5QkT5dgv",
        "colab": {
          "base_uri": "https://localhost:8080/"
        },
        "outputId": "9599fe86-cf68-4b0a-e2ba-7cfdab1ab970"
      },
      "source": [
        "df_passwords.isnull().sum()"
      ],
      "execution_count": null,
      "outputs": [
        {
          "output_type": "execute_result",
          "data": {
            "text/plain": [
              "passwords    0\n",
              "dtype: int64"
            ]
          },
          "metadata": {
            "tags": []
          },
          "execution_count": 12
        }
      ]
    },
    {
      "cell_type": "code",
      "metadata": {
        "id": "-8RZwOsP9oC2"
      },
      "source": [
        "# df_passwords.iloc[210:260]"
      ],
      "execution_count": null,
      "outputs": []
    },
    {
      "cell_type": "markdown",
      "metadata": {
        "id": "ngY3Q44AngUx"
      },
      "source": [
        "## EDA"
      ]
    },
    {
      "cell_type": "code",
      "metadata": {
        "id": "J01KMbwj9x39"
      },
      "source": [
        "df_passwords[\"length\"] = df_passwords.passwords.map(len)"
      ],
      "execution_count": null,
      "outputs": []
    },
    {
      "cell_type": "code",
      "metadata": {
        "id": "31Vvtda-K5mC",
        "colab": {
          "base_uri": "https://localhost:8080/",
          "height": 49
        },
        "outputId": "ba72c0cc-dcf9-4ad3-a68b-c1b7a37ed663"
      },
      "source": [
        "df_passwords[df_passwords[\"length\"] > 128]"
      ],
      "execution_count": null,
      "outputs": [
        {
          "output_type": "execute_result",
          "data": {
            "text/html": [
              "<div>\n",
              "<style scoped>\n",
              "    .dataframe tbody tr th:only-of-type {\n",
              "        vertical-align: middle;\n",
              "    }\n",
              "\n",
              "    .dataframe tbody tr th {\n",
              "        vertical-align: top;\n",
              "    }\n",
              "\n",
              "    .dataframe thead th {\n",
              "        text-align: right;\n",
              "    }\n",
              "</style>\n",
              "<table border=\"1\" class=\"dataframe\">\n",
              "  <thead>\n",
              "    <tr style=\"text-align: right;\">\n",
              "      <th></th>\n",
              "      <th>passwords</th>\n",
              "      <th>length</th>\n",
              "    </tr>\n",
              "  </thead>\n",
              "  <tbody>\n",
              "  </tbody>\n",
              "</table>\n",
              "</div>"
            ],
            "text/plain": [
              "Empty DataFrame\n",
              "Columns: [passwords, length]\n",
              "Index: []"
            ]
          },
          "metadata": {
            "tags": []
          },
          "execution_count": 15
        }
      ]
    },
    {
      "cell_type": "code",
      "metadata": {
        "id": "1XfeZuHusvuy"
      },
      "source": [
        "max_lenght = df_passwords.length.max()"
      ],
      "execution_count": null,
      "outputs": []
    },
    {
      "cell_type": "code",
      "metadata": {
        "id": "tR9A7D_h8wrI"
      },
      "source": [
        "def compute_distribution_for_places(password, dict_compute):\n",
        "  for idx, sign in enumerate(password):\n",
        "    try: \n",
        "      dict_compute[idx][sign] += 1\n",
        "    except KeyError:\n",
        "      dict_compute[idx][sign] = 1\n",
        "  return dict_compute\n",
        "\n",
        "def analyze_password_place( df: pd.DataFrame, max_lenght:int) -> dict:\n",
        "  dict_comput = {idx: {} for idx in range(max_lenght)}\n",
        "  for row in df.itertuples(index=False):\n",
        "    dict_comput = compute_distribution_for_places(row.passwords, dict_comput)\n",
        "\n",
        "  return dict_comput"
      ],
      "execution_count": null,
      "outputs": []
    },
    {
      "cell_type": "code",
      "metadata": {
        "id": "Upf_PdKxUWfE"
      },
      "source": [
        "dict_comput = analyze_password_place( df_passwords, max_lenght)\n"
      ],
      "execution_count": null,
      "outputs": []
    },
    {
      "cell_type": "code",
      "metadata": {
        "id": "KA70PDbjUcvM"
      },
      "source": [
        "df_compute = pd.DataFrame.from_dict(dict_comput)"
      ],
      "execution_count": null,
      "outputs": []
    },
    {
      "cell_type": "code",
      "metadata": {
        "id": "y7WUaR6reKjC"
      },
      "source": [
        ""
      ],
      "execution_count": null,
      "outputs": []
    },
    {
      "cell_type": "markdown",
      "metadata": {
        "id": "A6ueLrrutkon"
      },
      "source": [
        "## Passwords to vectors\n",
        "\n"
      ]
    },
    {
      "cell_type": "code",
      "metadata": {
        "id": "9bfHF97wtoX8"
      },
      "source": [
        "def create_keyboard_layout_position_dict(keyboard_layout: np.ndarray,\n",
        "                                         empty_letter: str = \"X\",\n",
        "                                         layout: str = \"QWERTY\") -> dict:\n",
        "    \"\"\"\n",
        "    Create dictionary with keys as signs and values as indices of those keys in\n",
        "    the keyboard_layout.\n",
        "    In case you use different layout then QWERTY probably you should adjust\n",
        "    indices for space \" \".\n",
        "\n",
        "    Parameters\n",
        "    ----------\n",
        "    keyboard_layout: np.ndarray\n",
        "        Keyboard layout as numpy array. If it is uneven is should be filled\n",
        "        with empty_letters to achive the same length of every row.\n",
        "    empty_letter: str\n",
        "        Filling of keyboard_layout in case of uneven rows.\n",
        "    layout: str\n",
        "        Type of keyboard layout\n",
        "\n",
        "    Returns\n",
        "    -------\n",
        "    out: dict\n",
        "        Dictionary with indices for signs form keyboard\n",
        "\n",
        "    \"\"\"\n",
        "    position_dict = {}\n",
        "    for idx, x in np.ndenumerate(keyboard_layout):\n",
        "        if x == empty_letter:\n",
        "            continue\n",
        "        if x == \" \" and layout == \"QWERTY\":\n",
        "            shape = keyboard_layout.shape\n",
        "            try:\n",
        "                position_dict[x] = (idx[0], shape[1] // 2) # idx[0] row, shape[1] // 2 - middle of row\n",
        "            except KeyError:\n",
        "                continue\n",
        "        if len(x) > 1:\n",
        "            position_dict[x[0]] = idx\n",
        "            position_dict[x[1]] = idx\n",
        "        else:\n",
        "            position_dict[x] = idx\n",
        "    return position_dict\n",
        "\n",
        "def cast_password_to_vector(password: str, position_dict: str) -> np.ndarray:\n",
        "    \"\"\"\n",
        "    Creates vector from password based on the dict with keys as \n",
        "    letters and values as their index on keyboard\n",
        "    \n",
        "    Parameters\n",
        "    ----------\n",
        "    password: str\n",
        "        Well password is a password\n",
        "    position_dict:dict\n",
        "        Dictionary with keys as signs and values as indices of those keys in\n",
        "        the keyboard_layout.\n",
        "\n",
        "    Returns\n",
        "    -------\n",
        "    out: np.ndarray\n",
        "        Vector of password\n",
        "    \"\"\"\n",
        "    password = password.lower()\n",
        "    vector = np.asarray([position_dict[letter] for letter in password])\n",
        "    vector = np.sum(vector, axis=0)\n",
        "    return vector"
      ],
      "execution_count": null,
      "outputs": []
    },
    {
      "cell_type": "code",
      "metadata": {
        "id": "abEw42skDvOt",
        "colab": {
          "base_uri": "https://localhost:8080/"
        },
        "outputId": "5db26d33-2762-4882-b49e-7a8163414ba6"
      },
      "source": [
        "for row in df_passwords.iloc[0:20].itertuples():\n",
        "  print(row.passwords)"
      ],
      "execution_count": null,
      "outputs": [
        {
          "output_type": "stream",
          "text": [
            "112233445566\n",
            "fox777\n",
            "pakistan11\n",
            "keith\n",
            "bN8dK0\n",
            "b1e2r3t4o5\n",
            "minnie1\n",
            "skateb1\n",
            "v5NRzWsL7\n",
            "fuckyou\n",
            "kelseysue\n",
            "317872770\n",
            "stellina2008\n",
            "gravizero13\n",
            "gracnk450\n",
            "2520241\n",
            "96_r_4023\n",
            "merureho\n",
            "MANZO45\n",
            "hug12y\n"
          ],
          "name": "stdout"
        }
      ]
    },
    {
      "cell_type": "code",
      "metadata": {
        "id": "baWsalVP8CFK"
      },
      "source": [
        "indicies_dict = create_keyboard_layout_position_dict(KEYBOARD_LAYOUT_QWERTY,\n",
        "                                                     EMPTY_LETTER)\n",
        "vectors = [cast_password_to_vector(row.passwords, indicies_dict) for row in df_passwords.itertuples()]"
      ],
      "execution_count": null,
      "outputs": []
    },
    {
      "cell_type": "code",
      "metadata": {
        "id": "MRAyXvsBGh7V"
      },
      "source": [
        "vectors = np.asarray(vectors)"
      ],
      "execution_count": null,
      "outputs": []
    },
    {
      "cell_type": "code",
      "metadata": {
        "id": "gYLhcCXxJALs",
        "colab": {
          "base_uri": "https://localhost:8080/",
          "height": 359
        },
        "outputId": "3679291c-d56b-412e-9e83-f36614c455b1"
      },
      "source": [
        "df_passwords.iloc[0:10]"
      ],
      "execution_count": null,
      "outputs": [
        {
          "output_type": "execute_result",
          "data": {
            "text/html": [
              "<div>\n",
              "<style scoped>\n",
              "    .dataframe tbody tr th:only-of-type {\n",
              "        vertical-align: middle;\n",
              "    }\n",
              "\n",
              "    .dataframe tbody tr th {\n",
              "        vertical-align: top;\n",
              "    }\n",
              "\n",
              "    .dataframe thead th {\n",
              "        text-align: right;\n",
              "    }\n",
              "</style>\n",
              "<table border=\"1\" class=\"dataframe\">\n",
              "  <thead>\n",
              "    <tr style=\"text-align: right;\">\n",
              "      <th></th>\n",
              "      <th>passwords</th>\n",
              "      <th>length</th>\n",
              "    </tr>\n",
              "  </thead>\n",
              "  <tbody>\n",
              "    <tr>\n",
              "      <th>0</th>\n",
              "      <td>112233445566</td>\n",
              "      <td>12</td>\n",
              "    </tr>\n",
              "    <tr>\n",
              "      <th>1</th>\n",
              "      <td>fox777</td>\n",
              "      <td>6</td>\n",
              "    </tr>\n",
              "    <tr>\n",
              "      <th>2</th>\n",
              "      <td>pakistan11</td>\n",
              "      <td>10</td>\n",
              "    </tr>\n",
              "    <tr>\n",
              "      <th>3</th>\n",
              "      <td>keith</td>\n",
              "      <td>5</td>\n",
              "    </tr>\n",
              "    <tr>\n",
              "      <th>4</th>\n",
              "      <td>bN8dK0</td>\n",
              "      <td>6</td>\n",
              "    </tr>\n",
              "    <tr>\n",
              "      <th>5</th>\n",
              "      <td>b1e2r3t4o5</td>\n",
              "      <td>10</td>\n",
              "    </tr>\n",
              "    <tr>\n",
              "      <th>6</th>\n",
              "      <td>minnie1</td>\n",
              "      <td>7</td>\n",
              "    </tr>\n",
              "    <tr>\n",
              "      <th>7</th>\n",
              "      <td>skateb1</td>\n",
              "      <td>7</td>\n",
              "    </tr>\n",
              "    <tr>\n",
              "      <th>8</th>\n",
              "      <td>v5NRzWsL7</td>\n",
              "      <td>9</td>\n",
              "    </tr>\n",
              "    <tr>\n",
              "      <th>9</th>\n",
              "      <td>fuckyou</td>\n",
              "      <td>7</td>\n",
              "    </tr>\n",
              "  </tbody>\n",
              "</table>\n",
              "</div>"
            ],
            "text/plain": [
              "      passwords  length\n",
              "0  112233445566      12\n",
              "1        fox777       6\n",
              "2    pakistan11      10\n",
              "3         keith       5\n",
              "4        bN8dK0       6\n",
              "5    b1e2r3t4o5      10\n",
              "6       minnie1       7\n",
              "7       skateb1       7\n",
              "8     v5NRzWsL7       9\n",
              "9       fuckyou       7"
            ]
          },
          "metadata": {
            "tags": []
          },
          "execution_count": 24
        }
      ]
    },
    {
      "cell_type": "code",
      "metadata": {
        "id": "vwqhifltGqus",
        "colab": {
          "base_uri": "https://localhost:8080/"
        },
        "outputId": "7ec5df28-2eed-4002-9481-135b79a4591e"
      },
      "source": [
        "vectors[0:10]"
      ],
      "execution_count": null,
      "outputs": [
        {
          "output_type": "execute_result",
          "data": {
            "text/plain": [
              "array([[ 0, 42],\n",
              "       [ 6, 36],\n",
              "       [14, 43],\n",
              "       [ 7, 30],\n",
              "       [10, 40],\n",
              "       [ 7, 41],\n",
              "       [12, 39],\n",
              "       [11, 25],\n",
              "       [15, 40],\n",
              "       [11, 44]])"
            ]
          },
          "metadata": {
            "tags": []
          },
          "execution_count": 25
        }
      ]
    },
    {
      "cell_type": "code",
      "metadata": {
        "colab": {
          "base_uri": "https://localhost:8080/"
        },
        "id": "DscwyfaXasnu",
        "outputId": "ccd30a8f-2fd7-4479-a447-722e53d9da5f"
      },
      "source": [
        "vectors[:,1]"
      ],
      "execution_count": null,
      "outputs": [
        {
          "output_type": "execute_result",
          "data": {
            "text/plain": [
              "array([42, 36, 43, ..., 50, 43, 24])"
            ]
          },
          "metadata": {
            "tags": []
          },
          "execution_count": 33
        }
      ]
    },
    {
      "cell_type": "code",
      "metadata": {
        "id": "MfaXVNltZo3x"
      },
      "source": [
        "df_passwords[\"vector\"] = \"(0,0)\""
      ],
      "execution_count": null,
      "outputs": []
    },
    {
      "cell_type": "code",
      "metadata": {
        "colab": {
          "base_uri": "https://localhost:8080/",
          "height": 35
        },
        "id": "CQDd4OOhbsiX",
        "outputId": "331099e1-cca7-4e5a-a0f7-254e128e3706"
      },
      "source": [
        "str((vectors[0,0],vectors[0,1])) "
      ],
      "execution_count": null,
      "outputs": [
        {
          "output_type": "execute_result",
          "data": {
            "application/vnd.google.colaboratory.intrinsic+json": {
              "type": "string"
            },
            "text/plain": [
              "'(0, 42)'"
            ]
          },
          "metadata": {
            "tags": []
          },
          "execution_count": 38
        }
      ]
    },
    {
      "cell_type": "code",
      "metadata": {
        "colab": {
          "base_uri": "https://localhost:8080/"
        },
        "id": "-uDO3bXuasIw",
        "outputId": "c1b565b0-12cb-49a2-99a0-4f03eff12fbb"
      },
      "source": [
        "for i in range(10):\n",
        "  row = df_passwords.loc[i]\n",
        "  row[\"vector\"] = str((vectors[i,0],vectors[i,1]))\n",
        "  df_passwords.loc[i] = row"
      ],
      "execution_count": null,
      "outputs": [
        {
          "output_type": "stream",
          "text": [
            "/usr/local/lib/python3.6/dist-packages/ipykernel_launcher.py:3: SettingWithCopyWarning: \n",
            "A value is trying to be set on a copy of a slice from a DataFrame\n",
            "\n",
            "See the caveats in the documentation: https://pandas.pydata.org/pandas-docs/stable/user_guide/indexing.html#returning-a-view-versus-a-copy\n",
            "  This is separate from the ipykernel package so we can avoid doing imports until\n"
          ],
          "name": "stderr"
        }
      ]
    },
    {
      "cell_type": "code",
      "metadata": {
        "id": "TZHMDV3gdQhY"
      },
      "source": [
        "df_passwords = df_passwords.drop(\"wektor\", axis=1) "
      ],
      "execution_count": null,
      "outputs": []
    },
    {
      "cell_type": "code",
      "metadata": {
        "colab": {
          "base_uri": "https://localhost:8080/",
          "height": 359
        },
        "id": "OoMXxjBRb6EX",
        "outputId": "fcea5b0e-dc32-46d1-cc84-ccc8195ba555"
      },
      "source": [
        "df_passwords.head(10)"
      ],
      "execution_count": null,
      "outputs": [
        {
          "output_type": "execute_result",
          "data": {
            "text/html": [
              "<div>\n",
              "<style scoped>\n",
              "    .dataframe tbody tr th:only-of-type {\n",
              "        vertical-align: middle;\n",
              "    }\n",
              "\n",
              "    .dataframe tbody tr th {\n",
              "        vertical-align: top;\n",
              "    }\n",
              "\n",
              "    .dataframe thead th {\n",
              "        text-align: right;\n",
              "    }\n",
              "</style>\n",
              "<table border=\"1\" class=\"dataframe\">\n",
              "  <thead>\n",
              "    <tr style=\"text-align: right;\">\n",
              "      <th></th>\n",
              "      <th>passwords</th>\n",
              "      <th>length</th>\n",
              "      <th>vector</th>\n",
              "    </tr>\n",
              "  </thead>\n",
              "  <tbody>\n",
              "    <tr>\n",
              "      <th>0</th>\n",
              "      <td>112233445566</td>\n",
              "      <td>12</td>\n",
              "      <td>(0, 42)</td>\n",
              "    </tr>\n",
              "    <tr>\n",
              "      <th>1</th>\n",
              "      <td>fox777</td>\n",
              "      <td>6</td>\n",
              "      <td>(6, 36)</td>\n",
              "    </tr>\n",
              "    <tr>\n",
              "      <th>2</th>\n",
              "      <td>pakistan11</td>\n",
              "      <td>10</td>\n",
              "      <td>(14, 43)</td>\n",
              "    </tr>\n",
              "    <tr>\n",
              "      <th>3</th>\n",
              "      <td>keith</td>\n",
              "      <td>5</td>\n",
              "      <td>(7, 30)</td>\n",
              "    </tr>\n",
              "    <tr>\n",
              "      <th>4</th>\n",
              "      <td>bN8dK0</td>\n",
              "      <td>6</td>\n",
              "      <td>(10, 40)</td>\n",
              "    </tr>\n",
              "    <tr>\n",
              "      <th>5</th>\n",
              "      <td>b1e2r3t4o5</td>\n",
              "      <td>10</td>\n",
              "      <td>(7, 41)</td>\n",
              "    </tr>\n",
              "    <tr>\n",
              "      <th>6</th>\n",
              "      <td>minnie1</td>\n",
              "      <td>7</td>\n",
              "      <td>(12, 39)</td>\n",
              "    </tr>\n",
              "    <tr>\n",
              "      <th>7</th>\n",
              "      <td>skateb1</td>\n",
              "      <td>7</td>\n",
              "      <td>(11, 25)</td>\n",
              "    </tr>\n",
              "    <tr>\n",
              "      <th>8</th>\n",
              "      <td>v5NRzWsL7</td>\n",
              "      <td>9</td>\n",
              "      <td>(15, 40)</td>\n",
              "    </tr>\n",
              "    <tr>\n",
              "      <th>9</th>\n",
              "      <td>fuckyou</td>\n",
              "      <td>7</td>\n",
              "      <td>(11, 44)</td>\n",
              "    </tr>\n",
              "  </tbody>\n",
              "</table>\n",
              "</div>"
            ],
            "text/plain": [
              "      passwords  length    vector\n",
              "0  112233445566      12   (0, 42)\n",
              "1        fox777       6   (6, 36)\n",
              "2    pakistan11      10  (14, 43)\n",
              "3         keith       5   (7, 30)\n",
              "4        bN8dK0       6  (10, 40)\n",
              "5    b1e2r3t4o5      10   (7, 41)\n",
              "6       minnie1       7  (12, 39)\n",
              "7       skateb1       7  (11, 25)\n",
              "8     v5NRzWsL7       9  (15, 40)\n",
              "9       fuckyou       7  (11, 44)"
            ]
          },
          "metadata": {
            "tags": []
          },
          "execution_count": 57
        }
      ]
    },
    {
      "cell_type": "code",
      "metadata": {
        "id": "Fpu7Gw4mDhBG",
        "colab": {
          "base_uri": "https://localhost:8080/",
          "height": 846
        },
        "outputId": "cbc17c74-750d-400b-c2f3-bb840ffe37bf"
      },
      "source": [
        "import numpy\n",
        "import matplotlib.pyplot as plt\n",
        "plt.style.use('dark_background')\n",
        "\n",
        "plt.figure(figsize=(8, 8), dpi=128)\n",
        "plt.scatter(vectors[:,0], vectors[:,1])\n",
        "plt.show()\n",
        "# plt.savefig('matplotlib.png')\n",
        "# Interactive.\n",
        "# plt.show()"
      ],
      "execution_count": null,
      "outputs": [
        {
          "output_type": "display_data",
          "data": {
            "image/png": "[encoded data removed]",
            "text/plain": [
              "<Figure size 1024x1024 with 1 Axes>"
            ]
          },
          "metadata": {
            "tags": []
          }
        }
      ]
    },
    {
      "cell_type": "markdown",
      "metadata": {
        "id": "jcbUP5XbS9D2"
      },
      "source": [
        "# CLUSTERING"
      ]
    },
    {
      "cell_type": "code",
      "metadata": {
        "id": "MTJvjuuAgMgG"
      },
      "source": [
        "from sklearn.cluster import OPTICS\n",
        "from sklearn.metrics.pairwise import cosine_similarity\n",
        "from sklearn.cluster import KMeans"
      ],
      "execution_count": null,
      "outputs": []
    },
    {
      "cell_type": "code",
      "metadata": {
        "id": "v909E0hmO1hg",
        "colab": {
          "base_uri": "https://localhost:8080/"
        },
        "outputId": "908a641a-ac2f-49b6-c5e8-a668348be571"
      },
      "source": [
        "!pip install hdbscan"
      ],
      "execution_count": null,
      "outputs": [
        {
          "output_type": "stream",
          "text": [
            "Requirement already satisfied: hdbscan in /usr/local/lib/python3.6/dist-packages (0.8.26)\n",
            "Requirement already satisfied: six in /usr/local/lib/python3.6/dist-packages (from hdbscan) (1.15.0)\n",
            "Requirement already satisfied: cython>=0.27 in /usr/local/lib/python3.6/dist-packages (from hdbscan) (0.29.21)\n",
            "Requirement already satisfied: scikit-learn>=0.17 in /usr/local/lib/python3.6/dist-packages (from hdbscan) (0.22.2.post1)\n",
            "Requirement already satisfied: scipy>=0.9 in /usr/local/lib/python3.6/dist-packages (from hdbscan) (1.4.1)\n",
            "Requirement already satisfied: joblib in /usr/local/lib/python3.6/dist-packages (from hdbscan) (0.17.0)\n",
            "Requirement already satisfied: numpy>=1.16.0 in /usr/local/lib/python3.6/dist-packages (from hdbscan) (1.18.5)\n"
          ],
          "name": "stdout"
        }
      ]
    },
    {
      "cell_type": "markdown",
      "metadata": {
        "id": "YJ6YwK8OSK-8"
      },
      "source": [
        "https://hdbscan.readthedocs.io/en/latest/performance_and_scalability.html#but-should-i-get-a-coffee\n",
        "\n",
        "![image.png](data:image/png;base64,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)"
      ]
    },
    {
      "cell_type": "code",
      "metadata": {
        "id": "TH7Qhps9FrLQ",
        "colab": {
          "base_uri": "https://localhost:8080/"
        },
        "outputId": "7683df67-e7a2-4515-decd-58fd908434d4"
      },
      "source": [
        "string.lower()"
      ],
      "execution_count": null,
      "outputs": [
        {
          "output_type": "execute_result",
          "data": {
            "text/plain": [
              "(9881981, 2)"
            ]
          },
          "metadata": {
            "tags": []
          },
          "execution_count": 29
        }
      ]
    },
    {
      "cell_type": "code",
      "metadata": {
        "id": "KfKSpQ99EjX5"
      },
      "source": [
        "# cluster_optics = OPTICS(min_samples=50000, max_eps=0.3, metric=\"cosine\", n_jobs=-1).fit(vectors)"
      ],
      "execution_count": null,
      "outputs": []
    },
    {
      "cell_type": "code",
      "metadata": {
        "id": "UfcyCeTUGpiM"
      },
      "source": [
        "import hdbscan\n",
        "clusterer = hdbscan.HDBSCAN(metric=\"\")"
      ],
      "execution_count": null,
      "outputs": []
    },
    {
      "cell_type": "code",
      "metadata": {
        "id": "-VUWUcCSPPbY"
      },
      "source": [
        "clusterer.fit(vectors)"
      ],
      "execution_count": null,
      "outputs": []
    }
  ]
}